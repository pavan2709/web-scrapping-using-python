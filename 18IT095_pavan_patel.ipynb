{
  "nbformat": 4,
  "nbformat_minor": 0,
  "metadata": {
    "colab": {
      "name": "18IT095_pavan patel.ipynb",
      "provenance": []
    },
    "kernelspec": {
      "name": "python3",
      "display_name": "Python 3"
    },
    "language_info": {
      "name": "python"
    }
  },
  "cells": [
    {
      "cell_type": "code",
      "metadata": {
        "id": "r8p8_VSBONEX"
      },
      "source": [
        "import requests\n",
        "from bs4 import BeautifulSoup\n",
        "import pandas as pd"
      ],
      "execution_count": 2,
      "outputs": []
    },
    {
      "cell_type": "code",
      "metadata": {
        "id": "bgCMMSUZOSVS"
      },
      "source": [
        "url= 'https://www.flipkart.com/search?q=samsung&otracker=search&otracker1=search&marketplace=FLIPKART&as-show=on&as=off'\n",
        "req=requests.get(url)"
      ],
      "execution_count": 11,
      "outputs": []
    },
    {
      "cell_type": "code",
      "metadata": {
        "id": "mkgua1pxS03-"
      },
      "source": [
        "nm=[]\n",
        "pr=[]\n",
        "rt=[]"
      ],
      "execution_count": 4,
      "outputs": []
    },
    {
      "cell_type": "code",
      "metadata": {
        "id": "3WHi4ZDFWbCT"
      },
      "source": [
        "content=BeautifulSoup(req.content,'html.parser')\n",
        "print(content)\n",
        "name=content.find_all('div',{\"class\":\"_4rR01T\"})\n",
        "price= content.find_all('div',{\"class\":\"_g\"})\n",
        "price= content.find_all('div',{\"class\":\"_30jeq3 _1_WHN1\"})\n",
        "rating=content.find_all('div',{\"class\":\"_3LWZIK\"})"
      ],
      "execution_count": null,
      "outputs": []
    },
    {
      "cell_type": "code",
      "metadata": {
        "id": "f3Rtl3NvY3Av"
      },
      "source": [
        "for i in name:\n",
        "    nm.append(i.text)\n",
        "for i in price:\n",
        "    pr.append(i.text)\n",
        "for i in rating:\n",
        "    rt.append(i.text)"
      ],
      "execution_count": 15,
      "outputs": []
    },
    {
      "cell_type": "code",
      "metadata": {
        "id": "tjAJ7nfhccbL"
      },
      "source": [
        "data={'NAME':nm,'PRICE':pr,'RATING':rt}\n",
        "    df=pd.DataFrame(data)\n",
        "    print(df)\n",
        "    df.to_csv('18it095_Pavan Patel.csv')"
      ],
      "execution_count": 24,
      "outputs": []
    }
  ]
}